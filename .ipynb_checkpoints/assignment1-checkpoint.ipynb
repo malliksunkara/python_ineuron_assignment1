{
 "cells": [
  {
   "cell_type": "markdown",
   "metadata": {},
   "source": [
    "Write a program which will find all such numbers which are divisible by 7 but are not a multiple of 5, between 2000 and 3200 (both included). The numbers obtained should be printed in a comma-separated sequence on a single line"
   ]
  },
  {
   "cell_type": "code",
   "execution_count": null,
   "metadata": {},
   "outputs": [],
   "source": [
    "def is_multiple(x,y):\n",
    "    if x != 0 and y%x == 0:\n",
    "        return True\n",
    "    else:\n",
    "        return False\n",
    "\n",
    "l_of_values = list(range(2000,3201))\n",
    "list_of_7d_not5m = []\n",
    "\n",
    "for i in l_of_values:\n",
    "    if(i % 7 == 0 ) & (not (is_multiple(5,i))):\n",
    "        list_of_7d_not5m.append(i)\n",
    "print(list_of_7d_not5m)"
   ]
  },
  {
   "cell_type": "markdown",
   "metadata": {},
   "source": [
    "Write a Python program to accept the user's first and last name and then getting them printed in\n",
    "the the reverse order with a space between first name and last name"
   ]
  },
  {
   "cell_type": "code",
   "execution_count": 6,
   "metadata": {},
   "outputs": [
    {
     "name": "stdout",
     "output_type": "stream",
     "text": [
      "enter the first namemallik\n",
      "enter the last namearjun\n",
      "the full_name mallik arjun\n",
      "the reverse of the name nujra killam\n"
     ]
    }
   ],
   "source": [
    "firstName = input(\"enter the first name\")\n",
    "lastName = input(\"enter the last name\")\n",
    "\n",
    "full_name= firstName+\" \"+lastName\n",
    "\n",
    "print(\"the full_name::\",full_name)\n",
    "\n",
    "print(\"the reverse of the name::\",full_name[::-1])"
   ]
  },
  {
   "cell_type": "markdown",
   "metadata": {},
   "source": [
    "Write a Python program to find the volume of a sphere with diameter 12 cm."
   ]
  },
  {
   "cell_type": "code",
   "execution_count": 12,
   "metadata": {},
   "outputs": [
    {
     "name": "stdout",
     "output_type": "stream",
     "text": [
      "The volume of the sphere with radius::  904.7786842338603\n",
      "The volume of the sphere with diameter:: 904.7786842338604\n"
     ]
    }
   ],
   "source": [
    "# diameter is 12 cm\n",
    "# the forumala can be converted to : V = 4/3 × π × r3 = π × d3/6.\n",
    "pi = 3.1415926535897931\n",
    "r= 6.0\n",
    "d= 12.0\n",
    "V= 4.0/3.0*pi* r**3\n",
    "print('The volume of the sphere with radius::',V)\n",
    "Vd= pi* d**3/6\n",
    "print('The volume of the sphere with diameter::',Vd)"
   ]
  },
  {
   "cell_type": "markdown",
   "metadata": {},
   "source": [
    "Write a program which accepts a sequence of comma-separated numbers from console and generate a list."
   ]
  },
  {
   "cell_type": "code",
   "execution_count": 15,
   "metadata": {},
   "outputs": [
    {
     "name": "stdout",
     "output_type": "stream",
     "text": [
      "Input some comma seprated numbers : 12,23,56,8,10\n",
      "the list of values ['12', '23', '56', '8', '10']\n",
      "[12, 23, 56, 8, 10]\n"
     ]
    }
   ],
   "source": [
    "values = input(\"Input some comma seprated numbers : \")\n",
    "l = values.split(\",\")\n",
    "print(\"the list of values\",l)\n",
    "for i in range(0, len(l)): \n",
    "    l[i] = int(l[i]) \n",
    "print(l)\n",
    "    "
   ]
  },
  {
   "cell_type": "code",
   "execution_count": 99,
   "metadata": {},
   "outputs": [
    {
     "name": "stdout",
     "output_type": "stream",
     "text": [
      "* \r\n",
      "* * \r\n",
      "* * * \r\n",
      "* * * * \r\n",
      "* * * * * \r\n",
      "\r\n",
      "\r\n",
      "\r\n",
      "\r\n"
     ]
    }
   ],
   "source": [
    "# Function to demonstrate printing pattern \n",
    "def pypart(n): \n",
    "      \n",
    "    # outer loop to handle number of rows \n",
    "    # n in this case\n",
    "    if(n%2 == 0):\n",
    "        half = round(n/2)+1\n",
    "    else:\n",
    "        half = round((n+1)/2)\n",
    "    \n",
    "    for i in range(0, half): \n",
    "      \n",
    "        # inner loop to handle number of columns \n",
    "        # values changing acc. to outer loop \n",
    "        for j in range(0, i+1): \n",
    "          \n",
    "            # printing stars \n",
    "            print(\"* \",end=\"\") \n",
    "       \n",
    "        # ending line after each row \n",
    "        print(\"\\r\")\n",
    "    \n",
    "    for k in range(half, n): \n",
    "      \n",
    "        # inner loop to handle number of columns \n",
    "        # values changing acc. to outer loop\n",
    "        for m in range(0,f):          \n",
    "            # printing stars \n",
    "            print(\"* \",end=\"\") \n",
    "       \n",
    "        # ending line after each row \n",
    "        print(\"\\r\")\n",
    "        \n",
    "        \n",
    "  \n",
    "# Driver Code \n",
    "n = 9\n",
    "pypart(n) "
   ]
  },
  {
   "cell_type": "code",
   "execution_count": null,
   "metadata": {},
   "outputs": [],
   "source": []
  }
 ],
 "metadata": {
  "kernelspec": {
   "display_name": "Python 3",
   "language": "python",
   "name": "python3"
  },
  "language_info": {
   "codemirror_mode": {
    "name": "ipython",
    "version": 3
   },
   "file_extension": ".py",
   "mimetype": "text/x-python",
   "name": "python",
   "nbconvert_exporter": "python",
   "pygments_lexer": "ipython3",
   "version": "3.7.0"
  }
 },
 "nbformat": 4,
 "nbformat_minor": 2
}
